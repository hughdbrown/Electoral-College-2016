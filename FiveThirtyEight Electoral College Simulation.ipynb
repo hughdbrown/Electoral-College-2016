{
 "cells": [
  {
   "cell_type": "code",
   "execution_count": 10,
   "metadata": {
    "collapsed": true
   },
   "outputs": [],
   "source": [
    "import os.path\n",
    "from collections import Counter\n",
    "\n",
    "from bs4 import BeautifulSoup\n",
    "import matplotlib.pyplot as plt\n",
    "import scipy.stats as st\n",
    "import numpy as np\n",
    "import seaborn\n",
    "\n",
    "%matplotlib inline"
   ]
  },
  {
   "cell_type": "code",
   "execution_count": 11,
   "metadata": {
    "collapsed": true
   },
   "outputs": [],
   "source": [
    "SIMULATIONS = 1000 * 1000\n",
    "\n",
    "\n",
    "ecs = [\n",
    "    \"FL\", \"PA\", \"NC\", \"MN\", \"CO\",\n",
    "    \"OH\", \"WI\", \"VA\", \"MI\", \"NV\",\n",
    "    \"AZ\", \"NJ\", \"NH\", \"IA\", \"GA\",\n",
    "    \"NM\", \"RI\", \"OR\", \"WA\", \"AK\",\n",
    "    \"SC\", \"DE\", \"IL\", \"TX\", \"CT\",\n",
    "    \"IN\", \"NB2\", \"MO\", \"ME\", \"MA\", \"NY\",\n",
    "    \"ND\", \"KS\", \"SD\", \"MS\", \"VT\",\n",
    "    \"ME2\", \"UT\", \"MT\", \"TN\", \"LA\",\n",
    "    \"KY\", \"NB1\", \"NB\", \"AR\", \"OK\",\n",
    "    \"ID\", \"AL\",\n",
    "    \"ME1\", \"WV\", \"CA\", \"MD\", \"WY\",\n",
    "    \"HI\", \"NB3\", \"DC\",\n",
    "]\n",
    "\n",
    "ec_votes = {\n",
    "    \"WA\": 12,\n",
    "    \"OR\": 7,\n",
    "    \"CA\": 55,\n",
    "    \"NV\": 6,\n",
    "    \"MT\": 3,\n",
    "    \"ID\": 4,\n",
    "    \"UT\": 6,\n",
    "    \"AZ\": 11,\n",
    "    \"CO\": 9,\n",
    "    \"NM\": 5,\n",
    "    \"WY\": 3,\n",
    "    \"ND\": 3,\n",
    "    \"SD\": 3,\n",
    "    \"NB\": 2, \"NB1\": 1, \"NB2\": 1, \"NB3\": 1,\n",
    "    \"KS\": 6,\n",
    "    \"OK\": 7,\n",
    "    \"TX\": 38,\n",
    "    \"LA\": 8,\n",
    "    \"AR\": 6,\n",
    "    \"MO\": 10,\n",
    "    \"IA\": 6,\n",
    "    \"MN\": 10,\n",
    "    \"WI\": 10,\n",
    "    \"IL\": 20,\n",
    "    \"MI\": 16,\n",
    "    \"IN\": 11,\n",
    "    \"TN\": 11,\n",
    "    \"KY\": 8,\n",
    "    \"MS\": 6,\n",
    "    \"AL\": 9,\n",
    "    \"GA\": 16,\n",
    "    \"FL\": 29,\n",
    "    \"HI\": 4,\n",
    "    \"AK\": 3,\n",
    "    \"DE\": 3,\n",
    "    \"DC\": 3,\n",
    "    \"VT\": 3,\n",
    "    \"ME\": 2, \"ME1\": 1, \"ME2\": 1,\n",
    "    \"NH\": 4,\n",
    "    \"RI\": 4,\n",
    "    \"WV\": 5,\n",
    "    \"CT\": 7,\n",
    "    \"SC\": 9,\n",
    "    \"MD\": 10,\n",
    "    \"MA\": 11,\n",
    "    \"VA\": 13,\n",
    "    \"NJ\": 14,\n",
    "    \"NC\": 15,\n",
    "    \"OH\": 18,\n",
    "    \"PA\": 20,\n",
    "    \"NY\": 29,\n",
    "}\n",
    "\n",
    "# Pixels to the midpoint\n",
    "fifty_percent = 206.\n",
    "\n",
    "# Number of stdevs covered by symmetric 80%\n",
    "eighty_percent = 1.2816"
   ]
  },
  {
   "cell_type": "code",
   "execution_count": 33,
   "metadata": {
    "collapsed": true
   },
   "outputs": [],
   "source": [
    "def prob_of_winning(fifty_percent, mean, stdev):\n",
    "    zscore = (fifty_percent - mean) / stdev\n",
    "    return st.norm.cdf(zscore)\n",
    "\n",
    "\n",
    "def get_dists():\n",
    "    filename = os.path.expanduser(\"2016 Election Forecast _ FiveThirtyEight.htm\")\n",
    "    with open(filename) as handle:\n",
    "        data = handle.read()\n",
    "    soup = BeautifulSoup(data, \"lxml\")\n",
    "\n",
    "    c = {\"class\": \"forecast\"}\n",
    "    rect_class = {\"class\": \"ci D\"}\n",
    "    forecasts = soup.find_all(\"g\", c)\n",
    "    dists = [\n",
    "        {\n",
    "            \"name\": ec,\n",
    "            \"width\": float(rect[\"width\"]),\n",
    "            \"left\": float(rect[\"x\"]),\n",
    "            # \"center\": float(circle[\"cx\"])\n",
    "        }\n",
    "        for forecast, ec in zip(forecasts, ecs)\n",
    "        for rect, circle in zip(forecast.find_all(\"rect\", rect_class), forecast.find_all(\"circle\"))\n",
    "    ]\n",
    "\n",
    "    # Back out the mean and stdev, precalculate linear probability\n",
    "    for d in dists:\n",
    "        mean = d[\"left\"] + d[\"width\"] / 2.\n",
    "        stdev = d[\"width\"] / (2 * eighty_percent)\n",
    "        prob = prob_of_winning(fifty_percent, mean, stdev)\n",
    "        d[\"prob\"], d[\"mean\"], d[\"stdev\"] = prob, mean, stdev\n",
    "\n",
    "    return dists\n",
    "\n",
    "\n",
    "def simulate(dists):\n",
    "    \"\"\"\n",
    "    Do draws from a linear distribution, counting state EC votes\n",
    "    when the random variable does not exceed the probability of\n",
    "    winning the state.\n",
    "    \"\"\"\n",
    "    state_probs = np.array([d[\"prob\"] for d in dists])\n",
    "    prob_iter = (\n",
    "        sum(\n",
    "            ec_votes[state]\n",
    "            for state, prob, state_prob in zip(ecs, np.random.random(len(dists)), state_probs)\n",
    "            if state_prob > prob)\n",
    "        for _ in range(SIMULATIONS)\n",
    "    )\n",
    "    return Counter(prob_iter)\n"
   ]
  },
  {
   "cell_type": "code",
   "execution_count": 34,
   "metadata": {
    "collapsed": true
   },
   "outputs": [],
   "source": [
    "dists = get_dists()\n",
    "results = simulate(dists)\n"
   ]
  },
  {
   "cell_type": "code",
   "execution_count": 35,
   "metadata": {
    "collapsed": false,
    "scrolled": true
   },
   "outputs": [
    {
     "data": {
      "image/png": "[encoded data removed]",
      "text/plain": [
       "<matplotlib.figure.Figure at 0x12360ed90>"
      ]
     },
     "metadata": {},
     "output_type": "display_data"
    }
   ],
   "source": [
    "x = list(results.keys())\n",
    "y = [v / float(SIMULATIONS) for v in results.values()]\n",
    "plt.figure(figsize=(16, 6))\n",
    "plt.plot(x, y)\n",
    "plt.xlabel(\"Electoral College votes\", fontsize=12)\n",
    "plt.ylabel(\"Probability of outcome\", fontsize=12)\n",
    "plt.title(\"Probability distribution of Clinton Electoral College votes\", fontsize=18)\n",
    "plt.show()"
   ]
  },
  {
   "cell_type": "code",
   "execution_count": 24,
   "metadata": {
    "collapsed": false
   },
   "outputs": [
    {
     "name": "stdout",
     "output_type": "stream",
     "text": [
      "0.99574\n",
      "0.003747\n"
     ]
    }
   ],
   "source": [
    "wins = sum(v for k, v in results.items() if k >= 270)\n",
    "losses = sum(v for k, v in results.items() if k <= 268)\n",
    "\n",
    "print(float(wins) / SIMULATIONS)\n",
    "print(float(losses) / SIMULATIONS)"
   ]
  },
  {
   "cell_type": "code",
   "execution_count": null,
   "metadata": {
    "collapsed": true
   },
   "outputs": [],
   "source": []
  }
 ],
 "metadata": {
  "kernelspec": {
   "display_name": "Python 2",
   "language": "python",
   "name": "python2"
  },
  "language_info": {
   "codemirror_mode": {
    "name": "ipython",
    "version": 2
   },
   "file_extension": ".py",
   "mimetype": "text/x-python",
   "name": "python",
   "nbconvert_exporter": "python",
   "pygments_lexer": "ipython2",
   "version": "2.7.12"
  }
 },
 "nbformat": 4,
 "nbformat_minor": 0
}
