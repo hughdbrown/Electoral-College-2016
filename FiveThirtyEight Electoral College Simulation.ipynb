{
 "cells": [
  {
   "cell_type": "code",
   "execution_count": 1,
   "metadata": {
    "collapsed": false
   },
   "outputs": [
    {
     "name": "stdout",
     "output_type": "stream",
     "text": [
      "Populating the interactive namespace from numpy and matplotlib\n"
     ]
    }
   ],
   "source": [
    "import os.path\n",
    "from collections import Counter\n",
    "\n",
    "from bs4 import BeautifulSoup\n",
    "import matplotlib.pyplot as plt\n",
    "import scipy.stats as st\n",
    "import numpy as np\n",
    "import seaborn\n",
    "\n",
    "%matplotlib inline\n",
    "%pylab inline"
   ]
  },
  {
   "cell_type": "code",
   "execution_count": 2,
   "metadata": {
    "collapsed": true
   },
   "outputs": [],
   "source": [
    "SIMULATIONS = 1000 * 1000\n",
    "\n",
    "\n",
    "ec_votes = {\n",
    "    \"WA\": 12,\n",
    "    \"OR\": 7,\n",
    "    \"CA\": 55,\n",
    "    \"NV\": 6,\n",
    "    \"MT\": 3,\n",
    "    \"ID\": 4,\n",
    "    \"UT\": 6,\n",
    "    \"AZ\": 11,\n",
    "    \"CO\": 9,\n",
    "    \"NM\": 5,\n",
    "    \"WY\": 3,\n",
    "    \"ND\": 3,\n",
    "    \"SD\": 3,\n",
    "    \"NE\": 2, \"NE1\": 1, \"NE2\": 1, \"NE3\": 1,\n",
    "    \"KS\": 6,\n",
    "    \"OK\": 7,\n",
    "    \"TX\": 38,\n",
    "    \"LA\": 8,\n",
    "    \"AR\": 6,\n",
    "    \"MO\": 10,\n",
    "    \"IA\": 6,\n",
    "    \"MN\": 10,\n",
    "    \"WI\": 10,\n",
    "    \"IL\": 20,\n",
    "    \"MI\": 16,\n",
    "    \"IN\": 11,\n",
    "    \"TN\": 11,\n",
    "    \"KY\": 8,\n",
    "    \"MS\": 6,\n",
    "    \"AL\": 9,\n",
    "    \"GA\": 16,\n",
    "    \"FL\": 29,\n",
    "    \"HI\": 4,\n",
    "    \"AK\": 3,\n",
    "    \"DE\": 3,\n",
    "    \"DC\": 3,\n",
    "    \"VT\": 3,\n",
    "    \"ME\": 2, \"ME1\": 1, \"ME2\": 1,\n",
    "    \"NH\": 4,\n",
    "    \"RI\": 4,\n",
    "    \"WV\": 5,\n",
    "    \"CT\": 7,\n",
    "    \"SC\": 9,\n",
    "    \"MD\": 10,\n",
    "    \"MA\": 11,\n",
    "    \"VA\": 13,\n",
    "    \"NJ\": 14,\n",
    "    \"NC\": 15,\n",
    "    \"OH\": 18,\n",
    "    \"PA\": 20,\n",
    "    \"NY\": 29,\n",
    "}\n",
    "\n",
    "# Pixels to the midpoint\n",
    "fifty_percent = 206.\n",
    "\n",
    "# Number of stdevs covered by symmetric 80%\n",
    "eighty_percent = 1.2816"
   ]
  },
  {
   "cell_type": "code",
   "execution_count": 3,
   "metadata": {
    "collapsed": true
   },
   "outputs": [],
   "source": [
    "def prob_of_winning(fifty_percent, mean, stdev):\n",
    "    zscore = (fifty_percent - mean) / stdev\n",
    "    return st.norm.cdf(zscore)\n",
    "\n",
    "\n",
    "def get_dists(filename):\n",
    "    with open(filename) as handle:\n",
    "        data = handle.read()\n",
    "    print(\"data: {0}\".format(len(data)))\n",
    "    soup = BeautifulSoup(data, \"lxml\")\n",
    "\n",
    "    state_class = {\"class\": \"state\"}\n",
    "    forecast_class = {\"class\": \"forecast\"}\n",
    "    rect_class = {\"class\": \"ci D\"}\n",
    "\n",
    "    states = soup.find_all(\"g\", state_class)\n",
    "    print(\"States: {0}\".format(len(states)))\n",
    "    ecs = [\n",
    "        ec_name[\"data-state\"]\n",
    "        for state in states\n",
    "        for ec_name in state.find_all(\"rect\", {\"class\": \"click\"})\n",
    "    ]\n",
    "    print(\"ECS: {0}\".format(len(ecs)))\n",
    "\n",
    "    forecasts = [\n",
    "        forecast\n",
    "        for state in states\n",
    "        for forecast in state.find_all(\"g\", forecast_class)\n",
    "    ]\n",
    "    print(\"forecasts: {0}\".format(len(forecasts)))\n",
    "    \n",
    "    dists = [\n",
    "        {\n",
    "            \"name\": ec,\n",
    "            \"width\": float(rect[\"width\"]),\n",
    "            \"left\": float(rect[\"x\"]),\n",
    "            # \"center\": float(circle[\"cx\"])\n",
    "        }\n",
    "        for forecast, ec in zip(forecasts, ecs)\n",
    "        for rect, circle in zip(forecast.find_all(\"rect\", rect_class), forecast.find_all(\"circle\"))\n",
    "    ]\n",
    "    print(\"Districts: {0}\".format(len(dists)))\n",
    "\n",
    "    # Back out the mean and stdev, precalculate linear probability\n",
    "    for d in dists:\n",
    "        mean = d[\"left\"] + d[\"width\"] / 2.\n",
    "        stdev = d[\"width\"] / (2 * eighty_percent)\n",
    "        prob = prob_of_winning(fifty_percent, mean, stdev)\n",
    "        d[\"prob\"], d[\"mean\"], d[\"stdev\"] = prob, mean, stdev\n",
    "\n",
    "    return ecs, dists"
   ]
  },
  {
   "cell_type": "markdown",
   "metadata": {},
   "source": [
    "Perform draws from each state's distribution of outcomes to simulate possible election outcomes."
   ]
  },
  {
   "cell_type": "code",
   "execution_count": 14,
   "metadata": {
    "collapsed": true
   },
   "outputs": [],
   "source": [
    "def simulate(ecs, dists):\n",
    "    \"\"\"\n",
    "    Do draws from a linear distribution, counting state EC votes\n",
    "    when the random variable does not exceed the probability of\n",
    "    winning the state.\n",
    "    \"\"\"\n",
    "    state_probs = np.array([d[\"prob\"] for d in dists])\n",
    "    prob_iter = (\n",
    "        np.sum([\n",
    "            ec_votes[state]\n",
    "            for state, prob, state_prob in zip(ecs, np.random.random(len(dists)), state_probs)\n",
    "            if state_prob > prob\n",
    "        ])\n",
    "        for _ in range(SIMULATIONS)\n",
    "    )\n",
    "    return Counter(prob_iter)\n"
   ]
  },
  {
   "cell_type": "code",
   "execution_count": 15,
   "metadata": {
    "collapsed": true
   },
   "outputs": [],
   "source": [
    "import requests\n",
    "\n",
    "def get_html_data():\n",
    "    filename = \"2016 Election Forecast _ FiveThirtyEight.htm\"\n",
    "    #url = \"http://projects.fivethirtyeight.com/2016-election-forecast/\"\n",
    "    #r = requests.get(url)\n",
    "    #filename = \"a.html\"\n",
    "    #with open(filename, \"w\") as handle:\n",
    "    #    handle.write(r.text)\n",
    "    return filename"
   ]
  },
  {
   "cell_type": "code",
   "execution_count": 16,
   "metadata": {
    "collapsed": false
   },
   "outputs": [
    {
     "name": "stdout",
     "output_type": "stream",
     "text": [
      "Pulling forecast data\n",
      "Extract distribution data\n",
      "data: 2681119\n",
      "States: 56\n",
      "ECS: 56\n",
      "forecasts: 56\n",
      "Districts: 56\n",
      "Simulate election\n",
      "Done\n"
     ]
    }
   ],
   "source": [
    "print(\"Pulling forecast data\")\n",
    "filename = get_html_data()\n",
    "\n",
    "print(\"Extract distribution data\")\n",
    "ecs, dists = get_dists(filename)\n",
    "\n",
    "print(\"Simulate election\")\n",
    "results = simulate(ecs, dists)\n",
    "print(\"Done\")"
   ]
  },
  {
   "cell_type": "code",
   "execution_count": 17,
   "metadata": {
    "collapsed": false
   },
   "outputs": [
    {
     "name": "stdout",
     "output_type": "stream",
     "text": [
      "Number of electoral college districts: 56\n",
      "Number of electoral college districts: 56\n"
     ]
    }
   ],
   "source": [
    "print(\"Number of electoral college districts: {0}\".format(len(ecs)))\n",
    "print(\"Number of electoral college districts: {0}\".format(len(dists)))"
   ]
  },
  {
   "cell_type": "code",
   "execution_count": 23,
   "metadata": {
    "collapsed": false,
    "scrolled": true
   },
   "outputs": [
    {
     "data": {
      "image/png": "[encoded data removed]",
      "text/plain": [
       "<matplotlib.figure.Figure at 0x118902650>"
      ]
     },
     "metadata": {},
     "output_type": "display_data"
    }
   ],
   "source": [
    "x = list(results.keys())\n",
    "y = [v / float(SIMULATIONS) for v in results.values()]\n",
    "min_x, max_x = min(x) - min(x) % 10, max(x) + (10 - max(x) % 10)\n",
    "plt.figure(figsize=(16, 6))\n",
    "plt.plot(x, y)\n",
    "plt.xticks(range(min_x, max_x, 10))\n",
    "plt.xlim([min_x, max_x])\n",
    "plt.xlabel(\"Electoral College votes\", fontsize=12)\n",
    "plt.ylabel(\"Probability of outcome\", fontsize=12)\n",
    "plt.title(\"Probability distribution of Clinton Electoral College votes\", fontsize=18)\n",
    "plt.show()"
   ]
  },
  {
   "cell_type": "code",
   "execution_count": 9,
   "metadata": {
    "collapsed": false
   },
   "outputs": [
    {
     "name": "stdout",
     "output_type": "stream",
     "text": [
      "1.0\n",
      "0.0\n"
     ]
    }
   ],
   "source": [
    "wins = sum(v for k, v in results.items() if k >= 270)\n",
    "losses = sum(v for k, v in results.items() if k <= 268)\n",
    "\n",
    "print(float(wins) / SIMULATIONS)\n",
    "print(float(losses) / SIMULATIONS)"
   ]
  },
  {
   "cell_type": "code",
   "execution_count": 10,
   "metadata": {
    "collapsed": false
   },
   "outputs": [
    {
     "name": "stdout",
     "output_type": "stream",
     "text": [
      "DC: 1.0\n",
      "MD: 0.999998933862\n",
      "CA: 0.999983122592\n",
      "HI: 0.999865768447\n",
      "MA: 0.999782597967\n",
      "NY: 0.999696421222\n",
      "IL: 0.99728420994\n",
      "VT: 0.99315189164\n",
      "CT: 0.992675336125\n",
      "WA: 0.987533242753\n",
      "NJ: 0.984222145693\n",
      "RI: 0.982283932542\n",
      "OR: 0.974250280411\n",
      "ME1: 0.973797152855\n",
      "DE: 0.964726108087\n",
      "NM: 0.954280613121\n",
      "VA: 0.935628672916\n",
      "MI: 0.934137895359\n",
      "WI: 0.899567710611\n",
      "MN: 0.896999608565\n",
      "PA: 0.894104620264\n",
      "ME: 0.889996034668\n",
      "CO: 0.874162214406\n",
      "NH: 0.845368700176\n",
      "FL: 0.755866285146\n",
      "NV: 0.747216072775\n",
      "NC: 0.700486303249\n",
      "OH: 0.632715115128\n",
      "IA: 0.627091052463\n",
      "AZ: 0.535272747277\n",
      "ME2: 0.51911169825\n",
      "NE2: 0.50377932541\n",
      "AK: 0.354289569404\n",
      "GA: 0.294908130472\n",
      "MO: 0.233010670281\n",
      "SD: 0.198833893972\n",
      "SC: 0.185255515723\n",
      "NE1: 0.170204544051\n",
      "TX: 0.153459627364\n",
      "IN: 0.14913396049\n",
      "KS: 0.14464779038\n",
      "MT: 0.132229837501\n",
      "ND: 0.080420593191\n",
      "UT: 0.0785452811305\n",
      "MS: 0.0571954746153\n",
      "KY: 0.0393755413743\n",
      "NE: 0.0389571882139\n",
      "TN: 0.0383598248532\n",
      "LA: 0.0352885152652\n",
      "AR: 0.015102495986\n",
      "ID: 0.00943599681508\n",
      "WY: 0.00867333515882\n",
      "WV: 0.00678822373452\n",
      "OK: 0.00461926246233\n",
      "NE3: 0.00296879434954\n",
      "AL: 0.00127610839375\n"
     ]
    }
   ],
   "source": [
    "from operator import itemgetter\n",
    "\n",
    "for dist in sorted(dists, key=itemgetter(\"prob\"), reverse=True):\n",
    "    print(\"{0}: {1}\".format(dist[\"name\"], dist[\"prob\"]))"
   ]
  },
  {
   "cell_type": "code",
   "execution_count": null,
   "metadata": {
    "collapsed": true
   },
   "outputs": [],
   "source": []
  }
 ],
 "metadata": {
  "kernelspec": {
   "display_name": "Python 2",
   "language": "python",
   "name": "python2"
  },
  "language_info": {
   "codemirror_mode": {
    "name": "ipython",
    "version": 2
   },
   "file_extension": ".py",
   "mimetype": "text/x-python",
   "name": "python",
   "nbconvert_exporter": "python",
   "pygments_lexer": "ipython2",
   "version": "2.7.12"
  }
 },
 "nbformat": 4,
 "nbformat_minor": 0
}
