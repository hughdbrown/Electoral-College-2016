{
 "cells": [
  {
   "cell_type": "code",
   "execution_count": 29,
   "metadata": {
    "collapsed": false
   },
   "outputs": [
    {
     "name": "stdout",
     "output_type": "stream",
     "text": [
      "Populating the interactive namespace from numpy and matplotlib\n"
     ]
    }
   ],
   "source": [
    "import os.path\n",
    "from collections import Counter\n",
    "\n",
    "from bs4 import BeautifulSoup\n",
    "import matplotlib.pyplot as plt\n",
    "import scipy.stats as st\n",
    "import numpy as np\n",
    "import seaborn\n",
    "\n",
    "%matplotlib inline\n",
    "%pylab inline"
   ]
  },
  {
   "cell_type": "code",
   "execution_count": 30,
   "metadata": {
    "collapsed": true
   },
   "outputs": [],
   "source": [
    "SIMULATIONS = 1000 * 1000\n",
    "\n",
    "\n",
    "ec_votes = {\n",
    "    \"WA\": 12,\n",
    "    \"OR\": 7,\n",
    "    \"CA\": 55,\n",
    "    \"NV\": 6,\n",
    "    \"MT\": 3,\n",
    "    \"ID\": 4,\n",
    "    \"UT\": 6,\n",
    "    \"AZ\": 11,\n",
    "    \"CO\": 9,\n",
    "    \"NM\": 5,\n",
    "    \"WY\": 3,\n",
    "    \"ND\": 3,\n",
    "    \"SD\": 3,\n",
    "    \"NE\": 2, \"NE1\": 1, \"NE2\": 1, \"NE3\": 1,\n",
    "    \"KS\": 6,\n",
    "    \"OK\": 7,\n",
    "    \"TX\": 38,\n",
    "    \"LA\": 8,\n",
    "    \"AR\": 6,\n",
    "    \"MO\": 10,\n",
    "    \"IA\": 6,\n",
    "    \"MN\": 10,\n",
    "    \"WI\": 10,\n",
    "    \"IL\": 20,\n",
    "    \"MI\": 16,\n",
    "    \"IN\": 11,\n",
    "    \"TN\": 11,\n",
    "    \"KY\": 8,\n",
    "    \"MS\": 6,\n",
    "    \"AL\": 9,\n",
    "    \"GA\": 16,\n",
    "    \"FL\": 29,\n",
    "    \"HI\": 4,\n",
    "    \"AK\": 3,\n",
    "    \"DE\": 3,\n",
    "    \"DC\": 3,\n",
    "    \"VT\": 3,\n",
    "    \"ME\": 2, \"ME1\": 1, \"ME2\": 1,\n",
    "    \"NH\": 4,\n",
    "    \"RI\": 4,\n",
    "    \"WV\": 5,\n",
    "    \"CT\": 7,\n",
    "    \"SC\": 9,\n",
    "    \"MD\": 10,\n",
    "    \"MA\": 11,\n",
    "    \"VA\": 13,\n",
    "    \"NJ\": 14,\n",
    "    \"NC\": 15,\n",
    "    \"OH\": 18,\n",
    "    \"PA\": 20,\n",
    "    \"NY\": 29,\n",
    "}\n",
    "\n",
    "# Pixels to the midpoint\n",
    "fifty_percent = 206.\n",
    "\n",
    "# Number of stdevs covered by symmetric 80%\n",
    "eighty_percent = 1.2816"
   ]
  },
  {
   "cell_type": "code",
   "execution_count": 45,
   "metadata": {
    "collapsed": true
   },
   "outputs": [],
   "source": [
    "def prob_of_winning(fifty_percent, mean, stdev):\n",
    "    zscore = (fifty_percent - mean) / stdev\n",
    "    return st.norm.cdf(zscore)\n",
    "\n",
    "\n",
    "def get_dists(filename):\n",
    "    with open(filename) as handle:\n",
    "        data = handle.read()\n",
    "    print(\"data: {0}\".format(len(data)))\n",
    "    soup = BeautifulSoup(data, \"lxml\")\n",
    "\n",
    "    state_class = {\"class\": \"state\"}\n",
    "    forecast_class = {\"class\": \"forecast\"}\n",
    "    rect_class = {\"class\": \"ci D\"}\n",
    "\n",
    "    states = soup.find_all(\"g\", state_class)\n",
    "    print(\"States: {0}\".format(len(states)))\n",
    "    ecs = [\n",
    "        ec_name[\"data-state\"]\n",
    "        for state in states\n",
    "        for ec_name in state.find_all(\"rect\", {\"class\": \"click\"})\n",
    "    ]\n",
    "    print(\"ECS: {0}\".format(len(ecs)))\n",
    "\n",
    "    forecasts = [\n",
    "        forecast\n",
    "        for state in states\n",
    "        for forecast in state.find_all(\"g\", forecast_class)\n",
    "    ]\n",
    "    print(\"forecasts: {0}\".format(len(forecasts)))\n",
    "    \n",
    "    dists = [\n",
    "        {\n",
    "            \"name\": ec,\n",
    "            \"width\": float(rect[\"width\"]),\n",
    "            \"left\": float(rect[\"x\"]),\n",
    "            # \"center\": float(circle[\"cx\"])\n",
    "        }\n",
    "        for forecast, ec in zip(forecasts, ecs)\n",
    "        for rect, circle in zip(forecast.find_all(\"rect\", rect_class), forecast.find_all(\"circle\"))\n",
    "    ]\n",
    "    print(\"Districts: {0}\".format(len(dists)))\n",
    "\n",
    "    # Back out the mean and stdev, precalculate linear probability\n",
    "    for d in dists:\n",
    "        mean = d[\"left\"] + d[\"width\"] / 2.\n",
    "        stdev = d[\"width\"] / (2 * eighty_percent)\n",
    "        prob = prob_of_winning(fifty_percent, mean, stdev)\n",
    "        d[\"prob\"], d[\"mean\"], d[\"stdev\"] = prob, mean, stdev\n",
    "\n",
    "    return ecs, dists"
   ]
  },
  {
   "cell_type": "markdown",
   "metadata": {},
   "source": [
    "Perform draws from each state's distribution of outcomes to simulate possible election outcomes."
   ]
  },
  {
   "cell_type": "code",
   "execution_count": 46,
   "metadata": {
    "collapsed": true
   },
   "outputs": [],
   "source": [
    "def simulate(ecs, dists):\n",
    "    \"\"\"\n",
    "    Do draws from a linear distribution, counting state EC votes\n",
    "    when the random variable does not exceed the probability of\n",
    "    winning the state.\n",
    "    \"\"\"\n",
    "    state_probs = np.array([d[\"prob\"] for d in dists])\n",
    "    prob_iter = (\n",
    "        np.sum([\n",
    "            ec_votes[state]\n",
    "            for state, prob, state_prob in zip(ecs, np.random.random(len(dists)), state_probs)\n",
    "            if state_prob > prob\n",
    "        ])\n",
    "        for _ in range(SIMULATIONS)\n",
    "    )\n",
    "    return Counter(prob_iter)\n"
   ]
  },
  {
   "cell_type": "code",
   "execution_count": 50,
   "metadata": {
    "collapsed": true
   },
   "outputs": [],
   "source": [
    "import requests\n",
    "\n",
    "def get_html_data():\n",
    "    filename = \"2016 Election Forecast _ FiveThirtyEight.htm\"\n",
    "    #url = \"http://projects.fivethirtyeight.com/2016-election-forecast/\"\n",
    "    #r = requests.get(url)\n",
    "    #filename = \"a.html\"\n",
    "    #with open(filename, \"w\") as handle:\n",
    "    #    handle.write(r.text)\n",
    "    return filename"
   ]
  },
  {
   "cell_type": "code",
   "execution_count": 51,
   "metadata": {
    "collapsed": false
   },
   "outputs": [
    {
     "name": "stdout",
     "output_type": "stream",
     "text": [
      "Pulling forecast data\n",
      "Extract distribution data\n",
      "data: 2681119\n",
      "States: 56\n",
      "ECS: 56\n",
      "forecasts: 56\n",
      "Districts: 56\n",
      "Simulate election\n",
      "Done\n"
     ]
    }
   ],
   "source": [
    "print(\"Pulling forecast data\")\n",
    "filename = get_html_data()\n",
    "\n",
    "print(\"Extract distribution data\")\n",
    "ecs, dists = get_dists(filename)\n",
    "\n",
    "print(\"Simulate election\")\n",
    "results = simulate(ecs, dists)\n",
    "print(\"Done\")"
   ]
  },
  {
   "cell_type": "code",
   "execution_count": 48,
   "metadata": {
    "collapsed": false
   },
   "outputs": [
    {
     "name": "stdout",
     "output_type": "stream",
     "text": [
      "Number of electoral college districts: 56\n",
      "Number of electoral college districts: 56\n"
     ]
    }
   ],
   "source": [
    "print(\"Number of electoral college districts: {0}\".format(len(ecs)))\n",
    "print(\"Number of electoral college districts: {0}\".format(len(dists)))"
   ]
  },
  {
   "cell_type": "code",
   "execution_count": 49,
   "metadata": {
    "collapsed": false,
    "scrolled": true
   },
   "outputs": [
    {
     "data": {
      "image/png": "[encoded data removed]",
      "text/plain": [
       "<matplotlib.figure.Figure at 0x11e83e2d0>"
      ]
     },
     "metadata": {},
     "output_type": "display_data"
    }
   ],
   "source": [
    "x = list(results.keys())\n",
    "y = [v / float(SIMULATIONS) for v in results.values()]\n",
    "plt.figure(figsize=(16, 6))\n",
    "plt.plot(x, y)\n",
    "plt.xlabel(\"Electoral College votes\", fontsize=12)\n",
    "plt.ylabel(\"Probability of outcome\", fontsize=12)\n",
    "plt.title(\"Probability distribution of Clinton Electoral College votes\", fontsize=18)\n",
    "plt.show()"
   ]
  },
  {
   "cell_type": "code",
   "execution_count": 6,
   "metadata": {
    "collapsed": false
   },
   "outputs": [
    {
     "name": "stdout",
     "output_type": "stream",
     "text": [
      "0.995837\n",
      "0.0037\n"
     ]
    }
   ],
   "source": [
    "wins = sum(v for k, v in results.items() if k >= 270)\n",
    "losses = sum(v for k, v in results.items() if k <= 268)\n",
    "\n",
    "print(float(wins) / SIMULATIONS)\n",
    "print(float(losses) / SIMULATIONS)"
   ]
  },
  {
   "cell_type": "code",
   "execution_count": null,
   "metadata": {
    "collapsed": true
   },
   "outputs": [],
   "source": []
  }
 ],
 "metadata": {
  "kernelspec": {
   "display_name": "Python 2",
   "language": "python",
   "name": "python2"
  },
  "language_info": {
   "codemirror_mode": {
    "name": "ipython",
    "version": 2
   },
   "file_extension": ".py",
   "mimetype": "text/x-python",
   "name": "python",
   "nbconvert_exporter": "python",
   "pygments_lexer": "ipython2",
   "version": "2.7.12"
  }
 },
 "nbformat": 4,
 "nbformat_minor": 0
}
